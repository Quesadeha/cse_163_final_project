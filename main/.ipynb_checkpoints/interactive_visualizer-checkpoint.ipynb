{
 "cells": [
  {
   "cell_type": "code",
   "execution_count": 1,
   "id": "ca8e09b6",
   "metadata": {},
   "outputs": [],
   "source": [
    "\"\"\"\n",
    "Zach Koverman\n",
    "CSE 163 AE\n",
    "5/30/22\n",
    "Documentation ..............................................................79\n",
    "\"\"\"\n",
    "\n",
    "# Installing plotly:\n",
    "# 1. Go to Terminal -> New Terminal\n",
    "# 2. Paste the following into the terminal and hit enter: conda install -c plotly plotly=5.8.0\n",
    "# 3. Type \"y\" when asked if you want to proceed\n",
    "\n",
    "import geopandas as gpd\n",
    "import plotly.express as px\n",
    "import json\n",
    "\n",
    "def plot_interactive_map(gdf):\n",
    "    \"\"\"\n",
    "    Documentation     \n",
    "    \"\"\"\n",
    "    with open(\"Documents/geojson-counties-fips.json\") as f:\n",
    "        counties = json.load(f)\n",
    "    \n",
    "    fig = px.choropleth_mapbox(gdf,\n",
    "                           geojson=counties,\n",
    "                           locations=\"County FIPS Code\",\n",
    "                           color=\"Graduation Rate\",\n",
    "                           center={\"lat\": 47.38695210127829,\n",
    "                                   \"lon\": -120.52247111357288},\n",
    "                           mapbox_style=\"open-street-map\",\n",
    "                           hover_name=\"JURISDIC_2\",\n",
    "                           title=\"Average High School Graduation Rate by\"\n",
    "                                 \" County in Washington, 7-Year Cohorts\"\n",
    "                                 \" from 2008 through 2012\",\n",
    "                           opacity=.75,\n",
    "                           zoom=5.5)\n",
    "    fig.show()\n",
    "    # fig.write_html(\"choropleth_test.html\")   "
   ]
  },
  {
   "cell_type": "code",
   "execution_count": null,
   "id": "e370cb76",
   "metadata": {},
   "outputs": [],
   "source": []
  },
  {
   "cell_type": "code",
   "execution_count": null,
   "id": "b99825c6",
   "metadata": {},
   "outputs": [],
   "source": []
  }
 ],
 "metadata": {
  "kernelspec": {
   "display_name": "Python 3 (ipykernel)",
   "language": "python",
   "name": "python3"
  },
  "language_info": {
   "codemirror_mode": {
    "name": "ipython",
    "version": 3
   },
   "file_extension": ".py",
   "mimetype": "text/x-python",
   "name": "python",
   "nbconvert_exporter": "python",
   "pygments_lexer": "ipython3",
   "version": "3.8.2"
  }
 },
 "nbformat": 4,
 "nbformat_minor": 5
}
